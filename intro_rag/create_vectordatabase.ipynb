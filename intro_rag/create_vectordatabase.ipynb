{
 "cells": [
  {
   "cell_type": "code",
   "execution_count": 3,
   "metadata": {},
   "outputs": [],
   "source": [
    "import numpy as np\n",
    "import pandas as pd\n",
    "import matplotlib.pyplot as plt\n",
    "\n",
    "from langchain_openai import OpenAIEmbeddings\n",
    "from langchain_text_splitters import RecursiveCharacterTextSplitter\n",
    "from langchain_community.document_loaders import PyPDFLoader\n",
    "from langchain_community.vectorstores import FAISS\n",
    "\n",
    "from dotenv import load_dotenv\n",
    "import os\n",
    "\n",
    "from tqdm import tqdm\n",
    "\n",
    "load_dotenv()\n",
    "\n",
    "OPENAI_API_KEY = os.getenv(\"OPENAI_API_KEY\")"
   ]
  },
  {
   "cell_type": "code",
   "execution_count": 4,
   "metadata": {},
   "outputs": [],
   "source": [
    "embedding_size = 1536\n",
    "embedding_model = \"text-embedding-3-small\"\n",
    "embeddings = OpenAIEmbeddings(model=embedding_model, dimensions=embedding_size)"
   ]
  },
  {
   "cell_type": "markdown",
   "metadata": {},
   "source": [
    "## Load Data"
   ]
  },
  {
   "cell_type": "code",
   "execution_count": 6,
   "metadata": {},
   "outputs": [],
   "source": [
    "file_path_ed_financeira = \"../data/educacao_financeira.pdf\"\n",
    "file_path_historia = \"../data/historia.pdf\"\n",
    "loader_historia = PyPDFLoader(file_path_historia)\n",
    "loader_ed_financeira = PyPDFLoader(file_path_ed_financeira)\n",
    "pages_historia = loader_historia.load()\n",
    "pages_ed_financeira = loader_ed_financeira.load()\n",
    "\n",
    "all_docs = pages_historia + pages_ed_financeira"
   ]
  },
  {
   "cell_type": "code",
   "execution_count": 8,
   "metadata": {},
   "outputs": [
    {
     "data": {
      "text/plain": [
       "420"
      ]
     },
     "execution_count": 8,
     "metadata": {},
     "output_type": "execute_result"
    }
   ],
   "source": [
    "len(all_docs)"
   ]
  },
  {
   "cell_type": "code",
   "execution_count": 9,
   "metadata": {},
   "outputs": [],
   "source": [
    "vector_db = FAISS.from_documents(all_docs, embeddings)"
   ]
  },
  {
   "cell_type": "code",
   "execution_count": 10,
   "metadata": {},
   "outputs": [],
   "source": [
    "vector_db.save_local(\"../vectorstore/historia_ed_financeira\")"
   ]
  },
  {
   "cell_type": "markdown",
   "metadata": {},
   "source": [
    "## Load Vector Database"
   ]
  },
  {
   "cell_type": "code",
   "execution_count": 11,
   "metadata": {},
   "outputs": [],
   "source": [
    "vdb = FAISS.load_local(\"../vectorstore/historia_ed_financeira\", \n",
    "                       embeddings, \n",
    "                       allow_dangerous_deserialization=True)"
   ]
  },
  {
   "cell_type": "code",
   "execution_count": 12,
   "metadata": {},
   "outputs": [],
   "source": [
    "retriever = vdb.as_retriever(search_kwargs={\"k\": 4})"
   ]
  },
  {
   "cell_type": "code",
   "execution_count": 13,
   "metadata": {},
   "outputs": [
    {
     "data": {
      "text/plain": [
       "[Document(id='2a0b4941-1bd8-4d17-bbe0-bb5e89b6aa5e', metadata={'source': '../data/educacao_financeira.pdf', 'page': 48}, page_content='3636\\nO que pesa mais, um quilo de algodão ou um quilo de chum-\\nbo? Muita gente responde chumbo ao ouvir esta pergunta, \\nmas, na verdade, os dois pesam a mesma coisa: um quilo. \\nNa hora de pensar nas nossas despesas, também podemos \\nficar confusos e acabar dando pesos equivocados a cada coi-\\nsa. Às vezes, achamos que estamos gastando muito em uma \\ncoisa, quando o que está pesando no nosso bolso na verdade \\né outra. \\nquaNTO pesa O seu sONhO? \\nVocê e sua família devem ter alguns sonhos e projetos que pa-\\nrecem muito distantes porque nunca sobra dinheiro suficien-\\nte no final do mês para realizá-los. O que fazer nesse caso?\\nAntes de tudo, seria bom vocês elegerem um dos projetos que \\nquerem realizar para ter um foco bem concreto. Isso ajuda a \\nmanter o esforço da família para conseguir o dinheiro neces-\\nsário. Escolheu um foco?\\nAgora você vai aprender a analisar o orçamento familiar \\npara entender onde está havendo desperdício de dinheiro \\ne que despesas podem ser reduzidas ou cortadas para fazer \\nsobrar dinheiro.\\nComece analisando a situação presente: o que se está fazen-\\ndo hoje com relação às receitas e despesas da família, ou \\nseja, o dinheiro que entra e o dinheiro que sai? No fim do mês \\nestá sobrando ou faltando dinheiro? Se estiver faltando, não \\nadianta ficar de braços cruzados ou se desesperar. É preciso \\nencontrar uma solução, e nesse sentido a análise financeira \\najuda muito.\\n'),\n",
       " Document(id='f0dca216-1483-4d41-bc6b-58666e442fcd', metadata={'source': '../data/educacao_financeira.pdf', 'page': 177}, page_content='Pisca alerta\\nson har é ótimo e todo mundo deveria sonhar sempre. mas realizar os sonhos é \\noutro papo e depende, principalmente, de botar os pés no chão. portanto, con-\\ncentre todas as suas energias naquilo que você realmente pode realizar e nada \\nde metas impossíveis, inviáveis! \\nes se m ODeLO De pLaNejameNTO COmBINa COm VOCê? \\nque TaL aDOTÁ-LO?\\nSe não combina, o que você mudaria? Crie seu próprio modelo!\\nBom, agora vem a análise dos dados: os valores alcançados no \\nprimeiro mês corresponderam ao que você planejou? Em caso \\nnegativo, analise o porquê e faça os ajustes necessários para \\no planejamento do mês seguinte e assim por diante, até obter \\nmaior controle e alcançar suas metas.\\nPronto, você aprendeu a fazer um planejamento financeiro \\npara realizar um sonho!\\nsONhO Re a LIzaDO?\\nAgora resta cumprir o que você planejou. Isso é que significa \\ncorrer atrás dos seus sonhos! Esperar cair do céu não funcio-\\nna... É preciso ter clareza do que você quer, descobrir o que \\nprecisa ser feito para alcançá-lo, planejar-se, fazer o que pla-\\nnejou e ajustar-se aos imprevistos no meio do caminho.\\nregistre no seu CADErNO DO ALUNO quando você realizou o \\nseu sonho e como se sentiu. E não deixe de comemorar! \\nDepois, que tal dividir suas ideias com um amigo para ter con-\\ntato com outras formas de planejar a realização dos sonhos?\\nqu e lembranças da vida \\ndeseja ter quando esti-\\nver mais velho?\\nqu e lugares você é louco \\npara conhecer?\\nO que você não gostaria de \\nter na sua vida de jeito  \\nnenhum? O que é mais impor-\\ntante na vida para você?\\n165'),\n",
       " Document(id='e947f3fb-6430-4c5a-9576-0906c33d80c7', metadata={'source': '../data/educacao_financeira.pdf', 'page': 172}, page_content='COmO aCh a R um sONhO pRIORITÁRIO?\\nComo vivemos em família, muitas vezes nossos sonhos indivi-\\nduais precisam ser negociados com os das pessoas com quem \\nvivemos. Outras vezes, uma família constrói um sonho coleti-\\nvo. Os seus sonhos estão em conflito ou em harmonia com os \\nsonhos de sua família? Caso haja conflitos, como harmonizar? \\nPara começar, é necessário que você tenha muita clareza so-\\nbre os seus sonhos prioritários, aqueles mais importantes para \\na sua vida. Dentre os seus sonhos, quais são os prioritários?\\nSeus sonhos prioritários se unirão às suas necessidades bási-\\ncas (como moradia, alimentação, saúde, educação, emprego) \\npara compor a lista de suas prioridades de vida. Essas prio-\\nridades devem estar bem claras, pois em vários momentos-\\nchave da sua vida você precisará tomar decisões difíceis, e \\no que vai ajudar é saber o que é mais importante para você. \\nPara que serve ter maior controle de sua vida financeira? \\nEsse controle é importante para que você não fique tão nas \\nmãos dos acasos da vida e para que possa se planejar para \\nrealizar os seus sonhos! Agora você terá a oportunidade de \\nreunir os conhecimentos que adquiriu no Bloco 1 e utilizá-los \\npara alcançar um sonho seu. \\nAntes de tudo, é muito importante que você tenha clareza de \\nquais são os seus sonhos! Sem pensar muito, escreva no seu \\nCADErNO DO ALUNO os três primeiros sonhos que aparece-\\nrem na sua cabeça.\\nA Educação Financeira ajuda você a alcançar seus sonhos, \\nao ensinar a estabelecer metas, tomar consciência de seu \\ncomportamento financeiro, criar e seguir um planejamento \\netc. Não é qualquer tipo de sonho que se realiza dessa for-\\nma... Logo, é necessário que você identifique quais dos seus \\nsonhos dependem de dinheiro para serem realizados.\\nem qu e tipo de lugar \\nvocê quer morar? \\nqu e tipo de \\ncasa quer ter?\\nHá várias frases espalha-\\ndas nesta SD que podem \\nservir de inspiração para \\nvocê organizar seu sonho \\nplanejado.\\n160'),\n",
       " Document(id='5a47c822-84e4-43c3-beea-97dabec762d9', metadata={'source': '../data/educacao_financeira.pdf', 'page': 173}, page_content='Pense. Dentre seus sonhos prioritários, escolha um que:\\n• dependa de planejamento financeiro para ser realizado;\\n• seja realizável por você individualmente;\\n• seja realizável em curto prazo.\\nregistre-o em seu CADE rNO DO ALUNO. Esse é o sonho que \\nvocê irá planejar agora. De verdade!\\nVeja quais indicações abaixo são relevantes para ajudar \\nvocê nesse planejamento. Utilize seu CADE rNO DO ALUNO \\npara responder às questões colocadas, marcar opções suge-\\nridas e fazer seu planejamento. \\nse o seu sonho envolve a compra de algum bem\\nSe esse for o seu caso, qual é o bem que deseja comprar? Por \\nque ele é tão importante? Quais características ele tem que \\nter? Veja quais são as perguntas que você precisa se fazer so-\\nbre esse objeto: \\n• Que funções ele tem que ter?\\n• Qual o modelo mais adequado?\\n• Que tamanho precisa ter?\\n• É preciso que ele seja prático, resistente, bonito, moderno, \\nútil, versátil/multifuncional? Ou o quê?\\nVocê precisará descobrir quanto custa esse bem e pensar nas \\ncaracterísticas que ele necessita ter em conexão com o que \\nvocê precisa. Pesquise bem os preços e produtos até chegar a \\num bom custo-benefício. Qual foi o valor encontrado?\\nse o seu sonho envolve algum serviço\\nSe é um serviço que você busca (ou um conjunto de servi-\\nços), o raciocínio é parecido com o da compra de um bem. \\nDetermine o que você quer e saiba por que o deseja. Isso aju-\\ndará a definir as características que o serviço precisará ofe-\\nrecer para que valha a pena pagar o valor cobrado. \\nqu e família quer \\nconstruir?\\nqu e profissão quer ter?\\n161')]"
      ]
     },
     "execution_count": 13,
     "metadata": {},
     "output_type": "execute_result"
    }
   ],
   "source": [
    "retriever.invoke(\"Quanto pesa seu sonho?\")"
   ]
  }
 ],
 "metadata": {
  "kernelspec": {
   "display_name": "env",
   "language": "python",
   "name": "python3"
  },
  "language_info": {
   "codemirror_mode": {
    "name": "ipython",
    "version": 3
   },
   "file_extension": ".py",
   "mimetype": "text/x-python",
   "name": "python",
   "nbconvert_exporter": "python",
   "pygments_lexer": "ipython3",
   "version": "3.10.11"
  }
 },
 "nbformat": 4,
 "nbformat_minor": 2
}
