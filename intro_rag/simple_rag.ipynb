{
 "cells": [
  {
   "cell_type": "code",
   "execution_count": 5,
   "metadata": {},
   "outputs": [],
   "source": [
    "import numpy as np\n",
    "import pandas as pd\n",
    "import matplotlib.pyplot as plt\n",
    "\n",
    "from langchain_openai import OpenAIEmbeddings, ChatOpenAI\n",
    "from langchain_groq import ChatGroq\n",
    "from langchain_core.output_parsers import StrOutputParser\n",
    "from langchain_core.prompts import ChatPromptTemplate\n",
    "\n",
    "from langchain_text_splitters import RecursiveCharacterTextSplitter\n",
    "from langchain_community.document_loaders import PyPDFLoader\n",
    "from langchain_community.vectorstores import FAISS\n",
    "\n",
    "from dotenv import load_dotenv\n",
    "from operator import itemgetter \n",
    "import os\n",
    "\n",
    "from tqdm import tqdm\n",
    "\n",
    "load_dotenv()\n",
    "\n",
    "OPENAI_API_KEY = os.getenv(\"OPENAI_API_KEY\")"
   ]
  },
  {
   "cell_type": "code",
   "execution_count": 6,
   "metadata": {},
   "outputs": [],
   "source": [
    "def load_vdb_and_retriever(path=\"../vectorstore/historia_ed_financeira\",\n",
    "                           k=4):\n",
    "    embedding_size = 1536\n",
    "    embedding_model = \"text-embedding-3-small\"\n",
    "    embeddings = OpenAIEmbeddings(model=embedding_model, dimensions=embedding_size)\n",
    "    \n",
    "    vdb = FAISS.load_local(path, \n",
    "                           embeddings, \n",
    "                           allow_dangerous_deserialization=True)\n",
    "    \n",
    "    retriever = vdb.as_retriever(search_kwargs={\"k\": k})\n",
    "    \n",
    "    return vdb, retriever\n",
    "    "
   ]
  },
  {
   "cell_type": "markdown",
   "metadata": {},
   "source": [
    "### Chains (Requisições para LLMs)\n",
    "\n",
    "Para fazer as requisições para os LLMs, vamos utilizar a biblioteca ``LangChain``. Ela é uma biblioteca que permite fazer requisições para LLMs de forma mais simples e rápida.\n",
    "\n",
    "### RAG (Retrieval-Augmented Generation)\n",
    "\n",
    "A técnica utilizada aqui consiste em utilizar o mecanismo de busca baseado nos ``embeddings`` para que se encontre os documentos mais próximos semanticamente para a geração de texto. Dessa forma, o modelo consegue gerar textos que se baseiam na informação contida nos documentos mais próximos.\n",
    "\n",
    "<img src=\"../imgs/rag.png\" width=\"600\">"
   ]
  },
  {
   "cell_type": "code",
   "execution_count": 7,
   "metadata": {},
   "outputs": [
    {
     "data": {
      "text/plain": [
       "[Document(id='2a0b4941-1bd8-4d17-bbe0-bb5e89b6aa5e', metadata={'source': '../data/educacao_financeira.pdf', 'page': 48}, page_content='3636\\nO que pesa mais, um quilo de algodão ou um quilo de chum-\\nbo? Muita gente responde chumbo ao ouvir esta pergunta, \\nmas, na verdade, os dois pesam a mesma coisa: um quilo. \\nNa hora de pensar nas nossas despesas, também podemos \\nficar confusos e acabar dando pesos equivocados a cada coi-\\nsa. Às vezes, achamos que estamos gastando muito em uma \\ncoisa, quando o que está pesando no nosso bolso na verdade \\né outra. \\nquaNTO pesa O seu sONhO? \\nVocê e sua família devem ter alguns sonhos e projetos que pa-\\nrecem muito distantes porque nunca sobra dinheiro suficien-\\nte no final do mês para realizá-los. O que fazer nesse caso?\\nAntes de tudo, seria bom vocês elegerem um dos projetos que \\nquerem realizar para ter um foco bem concreto. Isso ajuda a \\nmanter o esforço da família para conseguir o dinheiro neces-\\nsário. Escolheu um foco?\\nAgora você vai aprender a analisar o orçamento familiar \\npara entender onde está havendo desperdício de dinheiro \\ne que despesas podem ser reduzidas ou cortadas para fazer \\nsobrar dinheiro.\\nComece analisando a situação presente: o que se está fazen-\\ndo hoje com relação às receitas e despesas da família, ou \\nseja, o dinheiro que entra e o dinheiro que sai? No fim do mês \\nestá sobrando ou faltando dinheiro? Se estiver faltando, não \\nadianta ficar de braços cruzados ou se desesperar. É preciso \\nencontrar uma solução, e nesse sentido a análise financeira \\najuda muito.\\n'),\n",
       " Document(id='f0dca216-1483-4d41-bc6b-58666e442fcd', metadata={'source': '../data/educacao_financeira.pdf', 'page': 177}, page_content='Pisca alerta\\nson har é ótimo e todo mundo deveria sonhar sempre. mas realizar os sonhos é \\noutro papo e depende, principalmente, de botar os pés no chão. portanto, con-\\ncentre todas as suas energias naquilo que você realmente pode realizar e nada \\nde metas impossíveis, inviáveis! \\nes se m ODeLO De pLaNejameNTO COmBINa COm VOCê? \\nque TaL aDOTÁ-LO?\\nSe não combina, o que você mudaria? Crie seu próprio modelo!\\nBom, agora vem a análise dos dados: os valores alcançados no \\nprimeiro mês corresponderam ao que você planejou? Em caso \\nnegativo, analise o porquê e faça os ajustes necessários para \\no planejamento do mês seguinte e assim por diante, até obter \\nmaior controle e alcançar suas metas.\\nPronto, você aprendeu a fazer um planejamento financeiro \\npara realizar um sonho!\\nsONhO Re a LIzaDO?\\nAgora resta cumprir o que você planejou. Isso é que significa \\ncorrer atrás dos seus sonhos! Esperar cair do céu não funcio-\\nna... É preciso ter clareza do que você quer, descobrir o que \\nprecisa ser feito para alcançá-lo, planejar-se, fazer o que pla-\\nnejou e ajustar-se aos imprevistos no meio do caminho.\\nregistre no seu CADErNO DO ALUNO quando você realizou o \\nseu sonho e como se sentiu. E não deixe de comemorar! \\nDepois, que tal dividir suas ideias com um amigo para ter con-\\ntato com outras formas de planejar a realização dos sonhos?\\nqu e lembranças da vida \\ndeseja ter quando esti-\\nver mais velho?\\nqu e lugares você é louco \\npara conhecer?\\nO que você não gostaria de \\nter na sua vida de jeito  \\nnenhum? O que é mais impor-\\ntante na vida para você?\\n165'),\n",
       " Document(id='e947f3fb-6430-4c5a-9576-0906c33d80c7', metadata={'source': '../data/educacao_financeira.pdf', 'page': 172}, page_content='COmO aCh a R um sONhO pRIORITÁRIO?\\nComo vivemos em família, muitas vezes nossos sonhos indivi-\\nduais precisam ser negociados com os das pessoas com quem \\nvivemos. Outras vezes, uma família constrói um sonho coleti-\\nvo. Os seus sonhos estão em conflito ou em harmonia com os \\nsonhos de sua família? Caso haja conflitos, como harmonizar? \\nPara começar, é necessário que você tenha muita clareza so-\\nbre os seus sonhos prioritários, aqueles mais importantes para \\na sua vida. Dentre os seus sonhos, quais são os prioritários?\\nSeus sonhos prioritários se unirão às suas necessidades bási-\\ncas (como moradia, alimentação, saúde, educação, emprego) \\npara compor a lista de suas prioridades de vida. Essas prio-\\nridades devem estar bem claras, pois em vários momentos-\\nchave da sua vida você precisará tomar decisões difíceis, e \\no que vai ajudar é saber o que é mais importante para você. \\nPara que serve ter maior controle de sua vida financeira? \\nEsse controle é importante para que você não fique tão nas \\nmãos dos acasos da vida e para que possa se planejar para \\nrealizar os seus sonhos! Agora você terá a oportunidade de \\nreunir os conhecimentos que adquiriu no Bloco 1 e utilizá-los \\npara alcançar um sonho seu. \\nAntes de tudo, é muito importante que você tenha clareza de \\nquais são os seus sonhos! Sem pensar muito, escreva no seu \\nCADErNO DO ALUNO os três primeiros sonhos que aparece-\\nrem na sua cabeça.\\nA Educação Financeira ajuda você a alcançar seus sonhos, \\nao ensinar a estabelecer metas, tomar consciência de seu \\ncomportamento financeiro, criar e seguir um planejamento \\netc. Não é qualquer tipo de sonho que se realiza dessa for-\\nma... Logo, é necessário que você identifique quais dos seus \\nsonhos dependem de dinheiro para serem realizados.\\nem qu e tipo de lugar \\nvocê quer morar? \\nqu e tipo de \\ncasa quer ter?\\nHá várias frases espalha-\\ndas nesta SD que podem \\nservir de inspiração para \\nvocê organizar seu sonho \\nplanejado.\\n160'),\n",
       " Document(id='5a47c822-84e4-43c3-beea-97dabec762d9', metadata={'source': '../data/educacao_financeira.pdf', 'page': 173}, page_content='Pense. Dentre seus sonhos prioritários, escolha um que:\\n• dependa de planejamento financeiro para ser realizado;\\n• seja realizável por você individualmente;\\n• seja realizável em curto prazo.\\nregistre-o em seu CADE rNO DO ALUNO. Esse é o sonho que \\nvocê irá planejar agora. De verdade!\\nVeja quais indicações abaixo são relevantes para ajudar \\nvocê nesse planejamento. Utilize seu CADE rNO DO ALUNO \\npara responder às questões colocadas, marcar opções suge-\\nridas e fazer seu planejamento. \\nse o seu sonho envolve a compra de algum bem\\nSe esse for o seu caso, qual é o bem que deseja comprar? Por \\nque ele é tão importante? Quais características ele tem que \\nter? Veja quais são as perguntas que você precisa se fazer so-\\nbre esse objeto: \\n• Que funções ele tem que ter?\\n• Qual o modelo mais adequado?\\n• Que tamanho precisa ter?\\n• É preciso que ele seja prático, resistente, bonito, moderno, \\nútil, versátil/multifuncional? Ou o quê?\\nVocê precisará descobrir quanto custa esse bem e pensar nas \\ncaracterísticas que ele necessita ter em conexão com o que \\nvocê precisa. Pesquise bem os preços e produtos até chegar a \\num bom custo-benefício. Qual foi o valor encontrado?\\nse o seu sonho envolve algum serviço\\nSe é um serviço que você busca (ou um conjunto de servi-\\nços), o raciocínio é parecido com o da compra de um bem. \\nDetermine o que você quer e saiba por que o deseja. Isso aju-\\ndará a definir as características que o serviço precisará ofe-\\nrecer para que valha a pena pagar o valor cobrado. \\nqu e família quer \\nconstruir?\\nqu e profissão quer ter?\\n161')]"
      ]
     },
     "execution_count": 7,
     "metadata": {},
     "output_type": "execute_result"
    }
   ],
   "source": [
    "vdb, retriever = load_vdb_and_retriever()\n",
    "\n",
    "retriever.invoke(\"Qual o peso de um sonho?\")"
   ]
  },
  {
   "cell_type": "code",
   "execution_count": 9,
   "metadata": {},
   "outputs": [],
   "source": [
    "from langchain_core.runnables import RunnableLambda\n",
    "from langchain_core.documents import Document\n",
    "from typing import List, Dict\n",
    "\n",
    "def format_docs(docs: List[Document]) -> str:\n",
    "    return \"\\n\".join([x.page_content for x in docs])\n",
    "\n",
    "vdb, retriever = load_vdb_and_retriever()\n",
    "\n",
    "llm = ChatOpenAI(model=\"gpt-4o-mini\", temperature=0.2)\n",
    "# llm = ChatGroq(model=\"llama-3.3-70b-versatile\", temperature=0)\n",
    "\n",
    "\n",
    "system_prompt = \"\"\"\n",
    "Você é um assistente de IA que vai tirar dúvidas sobre educação financeira e história. \n",
    "\n",
    "Além disso, aqui está um conteudo extra sobre educação financeira e/ou história:\n",
    "\n",
    "[Conteudo extra]\n",
    "{extra_content}\n",
    "[Final do conteudo extra]\n",
    "\n",
    "--------------------------------------------\n",
    "\"\"\"\n",
    "\n",
    "prompt = ChatPromptTemplate.from_messages(\n",
    "    [\n",
    "        (\"system\", system_prompt),\n",
    "        (\"human\", \"{input}\"),\n",
    "    ]\n",
    ")\n",
    "\n",
    "chain = (\n",
    "    {\n",
    "        \"input\": itemgetter(\"input\"),\n",
    "        \"extra_content\": itemgetter(\"input\") | retriever | RunnableLambda(format_docs)\n",
    "    }\n",
    "    | prompt \n",
    "    | llm \n",
    "    | StrOutputParser()\n",
    ")"
   ]
  },
  {
   "cell_type": "code",
   "execution_count": 10,
   "metadata": {},
   "outputs": [],
   "source": [
    "response = chain.invoke({\"input\": \"Me fale sobre o peso de um sonho\"})"
   ]
  },
  {
   "cell_type": "code",
   "execution_count": 11,
   "metadata": {},
   "outputs": [
    {
     "name": "stdout",
     "output_type": "stream",
     "text": [
      "O \"peso de um sonho\" é uma metáfora que se refere à importância e ao impacto que um sonho ou objetivo pode ter na vida de uma pessoa. Assim como um quilo de algodão e um quilo de chumbo pesam a mesma coisa, os sonhos podem parecer diferentes em termos de dificuldade ou viabilidade, mas todos têm um peso emocional e prático.\n",
      "\n",
      "Quando falamos sobre o peso de um sonho, podemos considerar alguns aspectos:\n",
      "\n",
      "1. **Prioridade**: Alguns sonhos são mais importantes do que outros e, portanto, têm um \"peso\" maior em nossas vidas. É essencial identificar quais sonhos são prioritários e merecem nosso foco e esforço.\n",
      "\n",
      "2. **Planejamento**: Para realizar um sonho, é necessário um planejamento financeiro e pessoal. Isso envolve entender o que é necessário para alcançá-lo e como podemos nos organizar para isso.\n",
      "\n",
      "3. **Sacrifícios**: Muitas vezes, para realizar um sonho, precisamos abrir mão de outras coisas. O peso do sonho pode ser medido em termos de sacrifícios que estamos dispostos a fazer.\n",
      "\n",
      "4. **Impacto emocional**: O peso de um sonho também está ligado à sua importância emocional. Sonhos que têm um significado profundo para nós podem nos motivar a trabalhar duro e superar obstáculos.\n",
      "\n",
      "5. **Realização**: Quando conseguimos realizar um sonho, o \"peso\" que ele tinha em nossas vidas pode se transformar em uma sensação de leveza e satisfação. É um reconhecimento do esforço e do planejamento que foram necessários.\n",
      "\n",
      "Em resumo, o peso de um sonho é uma combinação de sua importância, o esforço necessário para alcançá-lo e o impacto que ele tem em nossas vidas. Identificar e trabalhar em direção a esses sonhos pode nos ajudar a ter uma vida mais plena e significativa.\n"
     ]
    }
   ],
   "source": [
    "print(response)"
   ]
  },
  {
   "cell_type": "code",
   "execution_count": 12,
   "metadata": {},
   "outputs": [
    {
     "name": "stdout",
     "output_type": "stream",
     "text": [
      "O \"peso de um sonho\" é uma metáfora que se refere à importância e ao impacto que um sonho ou objetivo pode ter na vida de uma pessoa. Assim como na famosa pergunta sobre o peso de um quilo de algodão versus um quilo de chumbo, onde ambos pesam a mesma coisa, os sonhos podem parecer diferentes em termos de dificuldade ou importância, mas todos têm um peso emocional e prático em nossas vidas.\n",
      "\n",
      "Quando falamos sobre o peso de um sonho, podemos considerar alguns aspectos:\n",
      "\n",
      "1. **Importância Pessoal**: Cada sonho tem um significado único para quem o possui. Um sonho pode ser um desejo profundo de mudança, realização ou conquista, e seu peso pode ser medido pela motivação que ele gera.\n",
      "\n",
      "2. **Desafios e Sacrifícios**: Realizar um sonho muitas vezes exige esforço, dedicação e, em muitos casos, sacrifícios. O peso do sonho pode ser sentido nas dificuldades enfrentadas ao longo do caminho.\n",
      "\n",
      "3. **Planejamento Financeiro**: Muitos sonhos requerem recursos financeiros para serem realizados. O peso do sonho pode ser refletido na necessidade de planejamento e controle financeiro, como economizar dinheiro ou ajustar despesas.\n",
      "\n",
      "4. **Impacto nas Relações**: Os sonhos também podem afetar as relações com outras pessoas. Às vezes, os sonhos individuais precisam ser negociados com os sonhos de familiares ou amigos, o que pode adicionar um peso emocional à situação.\n",
      "\n",
      "5. **Realização e Satisfação**: O peso de um sonho se transforma em leveza e satisfação quando ele é realizado. A sensação de conquista pode ser um dos sentimentos mais gratificantes da vida.\n",
      "\n",
      "Em resumo, o peso de um sonho é uma combinação de sua importância, os desafios que ele traz e a satisfação que vem com sua realização. É fundamental ter clareza sobre quais são os sonhos prioritários e como planejar para alcançá-los, levando em consideração tanto os aspectos emocionais quanto práticos."
     ]
    }
   ],
   "source": [
    "async for chunk in chain.astream({\"input\": \"Me fale sobre o peso de um sonho\"}):\n",
    "    print(chunk, end=\"\", flush=True)"
   ]
  },
  {
   "cell_type": "code",
   "execution_count": null,
   "metadata": {},
   "outputs": [],
   "source": []
  }
 ],
 "metadata": {
  "kernelspec": {
   "display_name": "env",
   "language": "python",
   "name": "python3"
  },
  "language_info": {
   "codemirror_mode": {
    "name": "ipython",
    "version": 3
   },
   "file_extension": ".py",
   "mimetype": "text/x-python",
   "name": "python",
   "nbconvert_exporter": "python",
   "pygments_lexer": "ipython3",
   "version": "3.10.11"
  }
 },
 "nbformat": 4,
 "nbformat_minor": 2
}
