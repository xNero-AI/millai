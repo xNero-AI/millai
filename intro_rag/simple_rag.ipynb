{
 "cells": [
  {
   "cell_type": "code",
   "execution_count": 9,
   "metadata": {},
   "outputs": [],
   "source": [
    "import numpy as np\n",
    "import pandas as pd\n",
    "import matplotlib.pyplot as plt\n",
    "\n",
    "from langchain_openai import OpenAIEmbeddings, ChatOpenAI\n",
    "from langchain_groq import ChatGroq\n",
    "from langchain_core.output_parsers import StrOutputParser\n",
    "from langchain_core.prompts import ChatPromptTemplate\n",
    "\n",
    "from langchain_text_splitters import RecursiveCharacterTextSplitter\n",
    "from langchain_community.document_loaders import PyPDFLoader\n",
    "from langchain_community.vectorstores import FAISS\n",
    "\n",
    "from dotenv import load_dotenv\n",
    "from operator import itemgetter \n",
    "import os\n",
    "\n",
    "from tqdm import tqdm\n",
    "\n",
    "load_dotenv()\n",
    "\n",
    "OPENAI_API_KEY = os.getenv(\"OPENAI_API_KEY\")"
   ]
  },
  {
   "cell_type": "code",
   "execution_count": 10,
   "metadata": {},
   "outputs": [],
   "source": [
    "def load_vdb_and_retriever(path=\"../vectorstore/historia_ed_financeira\",\n",
    "                           k=4):\n",
    "    embedding_size = 1536\n",
    "    embedding_model = \"text-embedding-3-small\"\n",
    "    embeddings = OpenAIEmbeddings(model=embedding_model, dimensions=embedding_size)\n",
    "    \n",
    "    vdb = FAISS.load_local(path, \n",
    "                           embeddings, \n",
    "                           allow_dangerous_deserialization=True)\n",
    "    \n",
    "    retriever = vdb.as_retriever(search_kwargs={\"k\": k})\n",
    "    \n",
    "    return vdb, retriever\n",
    "    "
   ]
  },
  {
   "cell_type": "markdown",
   "metadata": {},
   "source": [
    "### Chains (Requisições para LLMs)\n",
    "\n",
    "Para fazer as requisições para os LLMs, vamos utilizar a biblioteca ``LangChain``. Ela é uma biblioteca que permite fazer requisições para LLMs de forma mais simples e rápida.\n",
    "\n",
    "### RAG (Retrieval-Augmented Generation)\n",
    "\n",
    "A técnica utilizada aqui consiste em utilizar o mecanismo de busca baseado nos ``embeddings`` para que se encontre os documentos mais próximos semanticamente para a geração de texto. Dessa forma, o modelo consegue gerar textos que se baseiam na informação contida nos documentos mais próximos.\n",
    "\n",
    "<img src=\"../imgs/rag.png\" width=\"600\">"
   ]
  },
  {
   "cell_type": "code",
   "execution_count": 11,
   "metadata": {},
   "outputs": [],
   "source": [
    "vdb, retriever = load_vdb_and_retriever()\n",
    "\n",
    "llm = ChatOpenAI(model=\"gpt-4o-mini\", temperature=0.2)\n",
    "# llm = ChatGroq(model=\"llama-3.3-70b-versatile\", temperature=0)\n",
    "\n",
    "\n",
    "system_prompt = \"\"\"\n",
    "Você é um assistente de IA que vai tirar dúvidas sobre educação financeira e história. \n",
    "\n",
    "Além disso, aqui está um conteudo extra sobre educação financeira e/ou história:\n",
    "\n",
    "[Conteudo extra]\n",
    "{extra_content}\n",
    "[Final do conteudo extra]\n",
    "\n",
    "--------------------------------------------\n",
    "\"\"\"\n",
    "\n",
    "prompt = ChatPromptTemplate.from_messages(\n",
    "    [\n",
    "        (\"system\", system_prompt),\n",
    "        (\"human\", \"{input}\"),\n",
    "    ]\n",
    ")\n",
    "\n",
    "chain = (\n",
    "    {\n",
    "        \"input\": itemgetter(\"input\"),\n",
    "        \"extra_content\": itemgetter(\"input\") | retriever,\n",
    "    }\n",
    "    | prompt \n",
    "    | llm \n",
    "    | StrOutputParser()\n",
    ")"
   ]
  },
  {
   "cell_type": "code",
   "execution_count": 13,
   "metadata": {},
   "outputs": [],
   "source": [
    "response = chain.invoke({\"input\": \"Me fale sobre o peso de um sonho\"})"
   ]
  },
  {
   "cell_type": "code",
   "execution_count": 14,
   "metadata": {},
   "outputs": [
    {
     "name": "stdout",
     "output_type": "stream",
     "text": [
      "O conceito de \"peso de um sonho\" pode ser entendido de várias maneiras, mas geralmente se refere à importância e ao impacto que um sonho ou objetivo tem na vida de uma pessoa. Assim como na analogia do quilo de algodão e o quilo de chumbo, que pesam a mesma coisa, mas têm diferentes percepções, os sonhos também podem ser percebidos de maneiras distintas.\n",
      "\n",
      "Quando falamos sobre o \"peso\" de um sonho, podemos considerar:\n",
      "\n",
      "1. **Prioridade**: Alguns sonhos podem ser mais importantes do que outros, dependendo das circunstâncias da vida de uma pessoa. É essencial identificar quais sonhos são prioritários e quais podem ser adiados.\n",
      "\n",
      "2. **Esforço e Sacrifício**: Realizar um sonho muitas vezes requer esforço, dedicação e, em muitos casos, sacrifícios financeiros e pessoais. O \"peso\" pode se referir ao quanto você está disposto a se esforçar para alcançá-lo.\n",
      "\n",
      "3. **Impacto Emocional**: O peso de um sonho também pode estar relacionado ao impacto emocional que ele tem. Sonhos que são profundamente significativos podem ter um peso maior em nossa vida, influenciando nossas decisões e ações.\n",
      "\n",
      "4. **Realização Financeira**: Muitos sonhos exigem planejamento financeiro. O \"peso\" pode ser visto na análise de quanto dinheiro é necessário para realizá-los e como isso afeta o orçamento pessoal ou familiar.\n",
      "\n",
      "5. **Harmonização com Outros Sonhos**: Em contextos familiares, os sonhos individuais podem entrar em conflito ou harmonia com os sonhos de outras pessoas. O peso de um sonho pode ser influenciado pela necessidade de negociação e compromisso.\n",
      "\n",
      "Para lidar com o peso dos sonhos, é importante ter clareza sobre quais são os seus sonhos prioritários, analisar sua viabilidade e planejar como alcançá-los, considerando os recursos disponíveis e as prioridades da sua vida.\n"
     ]
    }
   ],
   "source": [
    "print(response)"
   ]
  },
  {
   "cell_type": "code",
   "execution_count": 15,
   "metadata": {},
   "outputs": [
    {
     "name": "stdout",
     "output_type": "stream",
     "text": [
      "O conceito de \"peso de um sonho\" pode ser entendido de várias maneiras, mas geralmente se refere à importância e ao impacto que um sonho ou objetivo tem na vida de uma pessoa. Assim como na analogia do quilo de algodão e o quilo de chumbo, que pesam a mesma coisa, mas têm diferentes percepções, os sonhos também podem ser percebidos de maneiras distintas.\n",
      "\n",
      "1. **Importância Pessoal**: O peso de um sonho pode ser medido pela sua relevância para a vida de alguém. Sonhos que estão alinhados com os valores e desejos mais profundos de uma pessoa tendem a ter um \"peso\" maior, pois são motivadores poderosos.\n",
      "\n",
      "2. **Desafios e Sacrifícios**: Alguns sonhos podem exigir sacrifícios significativos, como tempo, dinheiro e esforço. O \"peso\" aqui se refere ao que a pessoa está disposta a investir para realizá-lo. Sonhos que demandam mais esforço podem parecer mais pesados.\n",
      "\n",
      "3. **Realização e Satisfação**: O peso de um sonho também pode ser visto na satisfação que sua realização traz. Sonhos que são alcançados frequentemente trazem um sentimento de leveza e alegria, enquanto sonhos não realizados podem criar um peso emocional.\n",
      "\n",
      "4. **Planejamento Financeiro**: No contexto da educação financeira, o peso de um sonho pode se relacionar com a necessidade de planejamento e análise de orçamento. Para realizar um sonho, é importante entender onde estão os gastos e como é possível economizar para alcançá-lo.\n",
      "\n",
      "Em resumo, o peso de um sonho é uma combinação de sua importância pessoal, os desafios que apresenta, o esforço necessário para realizá-lo e o impacto emocional que sua realização ou não realização pode ter na vida de uma pessoa. É fundamental ter clareza sobre quais sonhos são prioritários e como planejar para alcançá-los."
     ]
    }
   ],
   "source": [
    "async for chunk in chain.astream({\"input\": \"Me fale sobre o peso de um sonho\"}):\n",
    "    print(chunk, end=\"\", flush=True)"
   ]
  },
  {
   "cell_type": "code",
   "execution_count": null,
   "metadata": {},
   "outputs": [],
   "source": []
  }
 ],
 "metadata": {
  "kernelspec": {
   "display_name": "env",
   "language": "python",
   "name": "python3"
  },
  "language_info": {
   "codemirror_mode": {
    "name": "ipython",
    "version": 3
   },
   "file_extension": ".py",
   "mimetype": "text/x-python",
   "name": "python",
   "nbconvert_exporter": "python",
   "pygments_lexer": "ipython3",
   "version": "3.10.11"
  }
 },
 "nbformat": 4,
 "nbformat_minor": 2
}
