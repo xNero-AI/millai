{
 "cells": [
  {
   "cell_type": "code",
   "execution_count": 20,
   "metadata": {},
   "outputs": [
    {
     "data": {
      "text/plain": [
       "True"
      ]
     },
     "execution_count": 20,
     "metadata": {},
     "output_type": "execute_result"
    }
   ],
   "source": [
    "from pydantic import BaseModel, Field\n",
    "from typing import List\n",
    "\n",
    "import numpy as np\n",
    "from PIL import Image\n",
    "\n",
    "import base64\n",
    "from io import BytesIO\n",
    "from langchain_core.messages import HumanMessage, SystemMessage\n",
    "from langchain_core.prompts import ChatPromptTemplate\n",
    "from langchain_core.output_parsers import StrOutputParser\n",
    "\n",
    "from langchain_core.runnables import (\n",
    "    RunnableLambda,\n",
    "    RunnableParallel,\n",
    "    RunnablePassthrough,\n",
    ")\n",
    "\n",
    "from langchain_openai import ChatOpenAI, OpenAIEmbeddings\n",
    "from dotenv import load_dotenv\n",
    "import os \n",
    "\n",
    "load_dotenv()"
   ]
  },
  {
   "cell_type": "markdown",
   "metadata": {},
   "source": [
    "### Utilização da multimodalidade dos LLMs\n",
    "\n",
    "Aqui vamos explorar a habilidade que os LLMs possuem de lidar com múltiplos tipos de dados. Para isso, vamos utilizar o modelo `gpt4o`, que é um modelo da OpenAI com performance relativamente adequada para extração de informações de texto e imagens."
   ]
  },
  {
   "cell_type": "code",
   "execution_count": 15,
   "metadata": {},
   "outputs": [],
   "source": [
    "model_name = \"gpt-4o-2024-08-06\"\n",
    "\n",
    "llm = ChatOpenAI(model=model_name, temperature=0.01)\n",
    "\n",
    "def get_list_food(paths: List[str], \n",
    "                          provider=\"openai\"):\n",
    "\n",
    "    # Caminho para a imagem em Base64\n",
    "    image_urls = paths \n",
    "    delta = len(image_urls)\n",
    "    images_data = []\n",
    "    \n",
    "    for image_url in image_urls:\n",
    "        with open(image_url, \"rb\") as image_file:\n",
    "            image_data = base64.b64encode(image_file.read()).decode(\"utf-8\")\n",
    "            images_data.append(image_data)\n",
    "    \n",
    "    system_prompt = \"\"\"\n",
    "    Você vai receber uma séria de imagens que contém comidas. Seu dever é identificar a comida presente em cada imagem e dizer quais comidas estão presentes. Use o seguinte padrão:\n",
    "    \n",
    "    [Inicio da lista]\n",
    "    - \"pizza\"\n",
    "    - \"hamburguer\"\n",
    "    - \"sushi\"\n",
    "    - ...\n",
    "    [Fim da lista]\n",
    "    \n",
    "    \"\"\"\n",
    "    \n",
    "    message_prompt = SystemMessage(\n",
    "        content=system_prompt\n",
    "    )\n",
    "    \n",
    "    all_content = []\n",
    "    for i, image_data in enumerate(images_data):\n",
    "        content = [\n",
    "            {\"type\": \"text\", \"text\": f\"Imagem - {i}:\"},\n",
    "            {\n",
    "                \"type\": \"image_url\",\n",
    "                \"image_url\": {\"url\": f\"data:image/jpeg;base64,{image_data}\"},\n",
    "            },\n",
    "        ]\n",
    "        all_content += content\n",
    "    \n",
    "    \n",
    "    message_img = HumanMessage(\n",
    "        content=all_content\n",
    "    )\n",
    "    \n",
    "    messages = [message_prompt, \n",
    "                message_img]\n",
    "    \n",
    "    prompt = ChatPromptTemplate.from_messages(messages)\n",
    "    \n",
    "    chain_extraction = prompt | llm | StrOutputParser()\n",
    "    \n",
    "    response = chain_extraction.invoke({})\n",
    "    return response"
   ]
  },
  {
   "cell_type": "code",
   "execution_count": 17,
   "metadata": {},
   "outputs": [],
   "source": [
    "path_imgs = \"../data/imgs_food\"\n",
    "paths = [os.path.join(path_imgs, x) for x in os.listdir(path_imgs)]\n",
    "response = get_list_food(paths=paths)"
   ]
  },
  {
   "cell_type": "code",
   "execution_count": 19,
   "metadata": {},
   "outputs": [
    {
     "name": "stdout",
     "output_type": "stream",
     "text": [
      "[Inicio da lista]\n",
      "- \"batata frita\"\n",
      "- \"moqueca de camarão\"\n",
      "- \"cuscuz\"\n",
      "- \"tapioca\"\n",
      "[Fim da lista]\n"
     ]
    }
   ],
   "source": [
    "print(response)"
   ]
  },
  {
   "cell_type": "markdown",
   "metadata": {},
   "source": [
    "### Multimodalidade + Structured Output\n",
    "\n",
    "Além do benefício de compreender o conteúdo presente nas imagens, podemos unir essa funcionalidade com a funcionalidade de estruturação de outputs. Isto é, podemos utilizar o modelo para extrair informações de imagens e, em seguida, estruturar essas informações em um formato específico. Isso é de suma importância na construção de APIs que garantem confiabilidade e consistência nos outputs."
   ]
  },
  {
   "cell_type": "code",
   "execution_count": 22,
   "metadata": {},
   "outputs": [],
   "source": [
    "model_name = \"gpt-4o-2024-08-06\"\n",
    "\n",
    "llm = ChatOpenAI(model=model_name, temperature=0.01)\n",
    "\n",
    "class FoodSchema(BaseModel):\n",
    "    \"\"\"Estrutura todas as comidas presentes no texto/imagem descrito.\"\"\"\n",
    "    \n",
    "    foods: str = Field(description=\"Comida presente no texto/imagem.\", examples=[\"pizza\", \n",
    "                                                                                 \"hamburguer\", \n",
    "                                                                                 \"sushi\", \n",
    "                                                                                 \"salada\"])\n",
    "\n",
    "def get_structured_list_food(paths: List[str], \n",
    "                          provider=\"openai\"):\n",
    "\n",
    "    # Caminho para a imagem em Base64\n",
    "    image_urls = paths \n",
    "    delta = len(image_urls)\n",
    "    images_data = []\n",
    "    \n",
    "    for image_url in image_urls:\n",
    "        with open(image_url, \"rb\") as image_file:\n",
    "            image_data = base64.b64encode(image_file.read()).decode(\"utf-8\")\n",
    "            images_data.append(image_data)\n",
    "    \n",
    "    system_prompt = \"\"\"\n",
    "    \n",
    "    Você vai receber uma séria de imagens que contém comidas. Seu dever é identificar a comida presente em cada imagem e dizer quais comidas estão presentes. Use o seguinte padrão:\n",
    "    \n",
    "    [Inicio da lista]\n",
    "    - \"pizza\"\n",
    "    - \"hamburguer\"\n",
    "    - \"sushi\"\n",
    "    - ...\n",
    "    [Fim da lista]\n",
    "    \n",
    "    \"\"\"\n",
    "    \n",
    "    message_prompt = SystemMessage(\n",
    "        content=system_prompt\n",
    "    )\n",
    "    \n",
    "    all_content = []\n",
    "    for i, image_data in enumerate(images_data):\n",
    "        content = [\n",
    "            {\"type\": \"text\", \"text\": f\"Imagem - {i}:\"},\n",
    "            {\n",
    "                \"type\": \"image_url\",\n",
    "                \"image_url\": {\"url\": f\"data:image/jpeg;base64,{image_data}\"},\n",
    "            },\n",
    "        ]\n",
    "        all_content += content\n",
    "    \n",
    "    \n",
    "    message_img = HumanMessage(\n",
    "        content=all_content\n",
    "    )\n",
    "    \n",
    "    messages = [message_prompt, \n",
    "                message_img]\n",
    "    \n",
    "    prompt = ChatPromptTemplate.from_messages(messages)\n",
    "    \n",
    "    system_prompt_structured = \"\"\"\n",
    "    \n",
    "    Você vai receber uma lista em texto de comidas registradas de imagens anteriores. Seu dever é identificar a comida presente no texto e estruturar as comidas presentes. \n",
    "    \n",
    "    \"\"\"\n",
    "    \n",
    "    prompt_structured = ChatPromptTemplate.from_messages(\n",
    "                    [\n",
    "                        (\"system\", system_prompt_structured),\n",
    "                        (\"human\", \"Lista de comida: {input}\"),\n",
    "                    ]\n",
    "                )\n",
    "    \n",
    "    chain_extraction = prompt | llm | StrOutputParser() | {\"input\": RunnablePassthrough()}\n",
    "    \n",
    "    llm_with_tools_extraction = llm.bind_tools([FoodSchema]) \n",
    "    \n",
    "    chain_structured_extraction = prompt_structured | llm_with_tools_extraction\n",
    "    \n",
    "    final_chain = chain_extraction | chain_structured_extraction\n",
    "    \n",
    "    response = final_chain.invoke({})\n",
    "    \n",
    "    return response"
   ]
  },
  {
   "cell_type": "code",
   "execution_count": 23,
   "metadata": {},
   "outputs": [],
   "source": [
    "path_imgs = \"../data/imgs_food\"\n",
    "paths = [os.path.join(path_imgs, x) for x in os.listdir(path_imgs)]\n",
    "response = get_structured_list_food(paths=paths)"
   ]
  },
  {
   "cell_type": "code",
   "execution_count": 25,
   "metadata": {},
   "outputs": [
    {
     "data": {
      "text/plain": [
       "[{'name': 'FoodSchema',\n",
       "  'args': {'foods': 'batata frita'},\n",
       "  'id': 'call_eZ8u6ObbNJMKiqUMeib6I2PS',\n",
       "  'type': 'tool_call'},\n",
       " {'name': 'FoodSchema',\n",
       "  'args': {'foods': 'moqueca de camarão'},\n",
       "  'id': 'call_hDnSyy3LiW0dPFEy1dCB8b8x',\n",
       "  'type': 'tool_call'},\n",
       " {'name': 'FoodSchema',\n",
       "  'args': {'foods': 'cuscuz'},\n",
       "  'id': 'call_ezxlDcP91aOfoyGuqfyh8POv',\n",
       "  'type': 'tool_call'},\n",
       " {'name': 'FoodSchema',\n",
       "  'args': {'foods': 'tapioca'},\n",
       "  'id': 'call_9M3c0plNsxZuO3kOXkFipxIB',\n",
       "  'type': 'tool_call'}]"
      ]
     },
     "execution_count": 25,
     "metadata": {},
     "output_type": "execute_result"
    }
   ],
   "source": [
    "response.tool_calls"
   ]
  }
 ],
 "metadata": {
  "kernelspec": {
   "display_name": "env",
   "language": "python",
   "name": "python3"
  },
  "language_info": {
   "codemirror_mode": {
    "name": "ipython",
    "version": 3
   },
   "file_extension": ".py",
   "mimetype": "text/x-python",
   "name": "python",
   "nbconvert_exporter": "python",
   "pygments_lexer": "ipython3",
   "version": "3.10.11"
  }
 },
 "nbformat": 4,
 "nbformat_minor": 2
}
